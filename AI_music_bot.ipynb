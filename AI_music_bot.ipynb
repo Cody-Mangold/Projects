{
  "cells": [
    {
      "cell_type": "code",
      "execution_count": null,
      "metadata": {
        "colab": {
          "background_save": true,
          "base_uri": "https://localhost:8080/"
        },
        "id": "uLkgqTRy1GPQ",
        "outputId": "22de96e1-8f9d-47cc-b8fc-b73406ce1264"
      },
      "outputs": [
        {
          "name": "stdout",
          "output_type": "stream",
          "text": [
            "Collecting spotipy\n",
            "  Downloading spotipy-2.24.0-py3-none-any.whl (30 kB)\n",
            "Collecting redis>=3.5.3 (from spotipy)\n",
            "  Downloading redis-5.0.5-py3-none-any.whl (251 kB)\n",
            "\u001b[2K     \u001b[90m━━━━━━━━━━━━━━━━━━━━━━━━━━━━━━━━━━━━━━━━\u001b[0m \u001b[32m252.0/252.0 kB\u001b[0m \u001b[31m4.8 MB/s\u001b[0m eta \u001b[36m0:00:00\u001b[0m\n",
            "\u001b[?25hRequirement already satisfied: requests>=2.25.0 in /usr/local/lib/python3.10/dist-packages (from spotipy) (2.31.0)\n",
            "Requirement already satisfied: urllib3>=1.26.0 in /usr/local/lib/python3.10/dist-packages (from spotipy) (2.0.7)\n",
            "Requirement already satisfied: async-timeout>=4.0.3 in /usr/local/lib/python3.10/dist-packages (from redis>=3.5.3->spotipy) (4.0.3)\n",
            "Requirement already satisfied: charset-normalizer<4,>=2 in /usr/local/lib/python3.10/dist-packages (from requests>=2.25.0->spotipy) (3.3.2)\n",
            "Requirement already satisfied: idna<4,>=2.5 in /usr/local/lib/python3.10/dist-packages (from requests>=2.25.0->spotipy) (3.7)\n",
            "Requirement already satisfied: certifi>=2017.4.17 in /usr/local/lib/python3.10/dist-packages (from requests>=2.25.0->spotipy) (2024.6.2)\n",
            "Installing collected packages: redis, spotipy\n",
            "Successfully installed redis-5.0.5 spotipy-2.24.0\n"
          ]
        }
      ],
      "source": [
        "!pip install spotipy"
      ]
    },
    {
      "cell_type": "code",
      "execution_count": null,
      "metadata": {
        "colab": {
          "background_save": true,
          "base_uri": "https://localhost:8080/"
        },
        "id": "APVBnHdNy1FW",
        "outputId": "20ea8507-8bbf-4c34-9bd4-cb8d83a4a6ef"
      },
      "outputs": [
        {
          "ename": "ValueError",
          "evalue": "mount failed",
          "output_type": "error",
          "traceback": [
            "\u001b[0;31m---------------------------------------------------------------------------\u001b[0m",
            "\u001b[0;31mValueError\u001b[0m                                Traceback (most recent call last)",
            "\u001b[0;32m<ipython-input-2-1fda36e46171>\u001b[0m in \u001b[0;36m<cell line: 20>\u001b[0;34m()\u001b[0m\n\u001b[1;32m     18\u001b[0m \u001b[0;32mfrom\u001b[0m \u001b[0mspotipy\u001b[0m\u001b[0;34m.\u001b[0m\u001b[0moauth2\u001b[0m \u001b[0;32mimport\u001b[0m \u001b[0mSpotifyClientCredentials\u001b[0m\u001b[0;34m\u001b[0m\u001b[0;34m\u001b[0m\u001b[0m\n\u001b[1;32m     19\u001b[0m \u001b[0mget_ipython\u001b[0m\u001b[0;34m(\u001b[0m\u001b[0;34m)\u001b[0m\u001b[0;34m.\u001b[0m\u001b[0mrun_line_magic\u001b[0m\u001b[0;34m(\u001b[0m\u001b[0;34m'matplotlib'\u001b[0m\u001b[0;34m,\u001b[0m \u001b[0;34m'inline'\u001b[0m\u001b[0;34m)\u001b[0m\u001b[0;34m\u001b[0m\u001b[0;34m\u001b[0m\u001b[0m\n\u001b[0;32m---> 20\u001b[0;31m \u001b[0mdrive\u001b[0m\u001b[0;34m.\u001b[0m\u001b[0mmount\u001b[0m\u001b[0;34m(\u001b[0m\u001b[0;34m\"/content/drive\"\u001b[0m\u001b[0;34m,\u001b[0m \u001b[0mforce_remount\u001b[0m \u001b[0;34m=\u001b[0m \u001b[0;32mTrue\u001b[0m\u001b[0;34m)\u001b[0m\u001b[0;34m\u001b[0m\u001b[0;34m\u001b[0m\u001b[0m\n\u001b[0m",
            "\u001b[0;32m/usr/local/lib/python3.10/dist-packages/google/colab/drive.py\u001b[0m in \u001b[0;36mmount\u001b[0;34m(mountpoint, force_remount, timeout_ms, readonly)\u001b[0m\n\u001b[1;32m     98\u001b[0m \u001b[0;32mdef\u001b[0m \u001b[0mmount\u001b[0m\u001b[0;34m(\u001b[0m\u001b[0mmountpoint\u001b[0m\u001b[0;34m,\u001b[0m \u001b[0mforce_remount\u001b[0m\u001b[0;34m=\u001b[0m\u001b[0;32mFalse\u001b[0m\u001b[0;34m,\u001b[0m \u001b[0mtimeout_ms\u001b[0m\u001b[0;34m=\u001b[0m\u001b[0;36m120000\u001b[0m\u001b[0;34m,\u001b[0m \u001b[0mreadonly\u001b[0m\u001b[0;34m=\u001b[0m\u001b[0;32mFalse\u001b[0m\u001b[0;34m)\u001b[0m\u001b[0;34m:\u001b[0m\u001b[0;34m\u001b[0m\u001b[0;34m\u001b[0m\u001b[0m\n\u001b[1;32m     99\u001b[0m   \u001b[0;34m\"\"\"Mount your Google Drive at the specified mountpoint path.\"\"\"\u001b[0m\u001b[0;34m\u001b[0m\u001b[0;34m\u001b[0m\u001b[0m\n\u001b[0;32m--> 100\u001b[0;31m   return _mount(\n\u001b[0m\u001b[1;32m    101\u001b[0m       \u001b[0mmountpoint\u001b[0m\u001b[0;34m,\u001b[0m\u001b[0;34m\u001b[0m\u001b[0;34m\u001b[0m\u001b[0m\n\u001b[1;32m    102\u001b[0m       \u001b[0mforce_remount\u001b[0m\u001b[0;34m=\u001b[0m\u001b[0mforce_remount\u001b[0m\u001b[0;34m,\u001b[0m\u001b[0;34m\u001b[0m\u001b[0;34m\u001b[0m\u001b[0m\n",
            "\u001b[0;32m/usr/local/lib/python3.10/dist-packages/google/colab/drive.py\u001b[0m in \u001b[0;36m_mount\u001b[0;34m(mountpoint, force_remount, timeout_ms, ephemeral, readonly)\u001b[0m\n\u001b[1;32m    280\u001b[0m             \u001b[0;34m'https://research.google.com/colaboratory/faq.html#drive-timeout'\u001b[0m\u001b[0;34m\u001b[0m\u001b[0;34m\u001b[0m\u001b[0m\n\u001b[1;32m    281\u001b[0m         )\n\u001b[0;32m--> 282\u001b[0;31m       \u001b[0;32mraise\u001b[0m \u001b[0mValueError\u001b[0m\u001b[0;34m(\u001b[0m\u001b[0;34m'mount failed'\u001b[0m \u001b[0;34m+\u001b[0m \u001b[0mextra_reason\u001b[0m\u001b[0;34m)\u001b[0m\u001b[0;34m\u001b[0m\u001b[0;34m\u001b[0m\u001b[0m\n\u001b[0m\u001b[1;32m    283\u001b[0m     \u001b[0;32melif\u001b[0m \u001b[0mcase\u001b[0m \u001b[0;34m==\u001b[0m \u001b[0;36m4\u001b[0m\u001b[0;34m:\u001b[0m\u001b[0;34m\u001b[0m\u001b[0;34m\u001b[0m\u001b[0m\n\u001b[1;32m    284\u001b[0m       \u001b[0;31m# Terminate the DriveFS binary before killing bash.\u001b[0m\u001b[0;34m\u001b[0m\u001b[0;34m\u001b[0m\u001b[0m\n",
            "\u001b[0;31mValueError\u001b[0m: mount failed"
          ]
        }
      ],
      "source": [
        "import pandas as pd\n",
        "import csv\n",
        "from collections import defaultdict\n",
        "import math\n",
        "import matplotlib.pyplot as plt\n",
        "import seaborn as sns\n",
        "from google.colab import drive\n",
        "from sklearn.cluster import KMeans\n",
        "from sklearn.model_selection import GridSearchCV\n",
        "from sklearn.metrics import silhouette_score\n",
        "from sklearn.preprocessing import StandardScaler\n",
        "import requests\n",
        "import re\n",
        "import sys\n",
        "import random\n",
        "import spotipy\n",
        "from spotipy.oauth2 import SpotifyOAuth\n",
        "from spotipy.oauth2 import SpotifyClientCredentials\n",
        "%matplotlib inline\n",
        "drive.mount(\"/content/drive\", force_remount = True)\n"
      ]
    },
    {
      "cell_type": "code",
      "execution_count": null,
      "metadata": {
        "colab": {
          "background_save": true
        },
        "id": "Ce9zkqPyy72r"
      },
      "outputs": [],
      "source": [
        "basePath = \"/content/drive/MyDrive/AI_Project/\""
      ]
    },
    {
      "cell_type": "code",
      "execution_count": null,
      "metadata": {
        "colab": {
          "background_save": true
        },
        "id": "3uDa3xgly8DA"
      },
      "outputs": [],
      "source": [
        "data = basePath + \"genre_attrs.csv\""
      ]
    },
    {
      "cell_type": "code",
      "execution_count": null,
      "metadata": {
        "colab": {
          "background_save": true
        },
        "id": "3zWRBAreHulu"
      },
      "outputs": [],
      "source": [
        "# Loading user's playlist data, extracts all the genres, puts genres into a dictionary\n",
        "\n",
        "\n",
        "# Initialize a defaultdict to store genres and their frequencies\n",
        "genre_frequency = defaultdict(int)\n",
        "\n",
        "# Path to your CSV file\n",
        "file_path = basePath + 'past_lives.csv'\n",
        "\n",
        "# Reading and parsing the CSV file\n",
        "with open(file_path, newline='', encoding='utf-8') as csvfile:\n",
        "    reader = csv.DictReader(csvfile)\n",
        "\n",
        "    # Iterate through each row in the CSV\n",
        "    for row in reader:\n",
        "        genres = row['Genres'].split(',')  # Split genres based on comma\n",
        "\n",
        "        # Iterate through each genre in the 'Genres' column\n",
        "        for genre in genres:\n",
        "            # Remove leading/trailing spaces and convert to lowercase for uniformity\n",
        "            cleaned_genre = genre.strip().lower()\n",
        "\n",
        "            # Increment the count for the genre in the defaultdict\n",
        "            genre_frequency[cleaned_genre] += 1\n",
        "\n",
        "# Displaying the hashmap with genres and their frequencies\n",
        "for genre, frequency in genre_frequency.items():\n",
        "    print(f\"{genre}: {frequency}\")"
      ]
    },
    {
      "cell_type": "code",
      "execution_count": null,
      "metadata": {
        "colab": {
          "background_save": true
        },
        "id": "Is35zwsfzsbp"
      },
      "outputs": [],
      "source": [
        "data_pd = pd.read_csv(data, sep = ',', engine = 'python')\n",
        "\n",
        "# data_pd(by=['hex_colour'])\n",
        "print(data_pd)"
      ]
    },
    {
      "cell_type": "code",
      "execution_count": null,
      "metadata": {
        "colab": {
          "background_save": true
        },
        "id": "iDlKLjNh9HQ0"
      },
      "outputs": [],
      "source": [
        "# Selecting features for clustering\n",
        "features = data_pd[['x', 'y']]\n",
        "\n",
        "\n",
        "# Scaling data\n",
        "scaler = StandardScaler()\n",
        "scaled_features = scaler.fit_transform(features)\n",
        "\n",
        "# Applying k-means clustering\n",
        "k = 50\n",
        "kmeans = KMeans(n_clusters=k, init='k-means++', random_state=42)\n",
        "data_pd['cluster'] = kmeans.fit_predict(scaled_features)\n",
        "labels = kmeans.labels_\n",
        "centroids_scaled = kmeans.cluster_centers_\n",
        "\n",
        "centroids = scaler.inverse_transform(centroids_scaled)\n",
        "\n",
        "# Visualizing clusters and centroids using seaborn\n",
        "plt.figure(figsize=(15, 15))\n",
        "sns.scatterplot(x='x', y='y', hue='cluster', data=data_pd, palette='tab10', alpha=0.5)\n",
        "plt.scatter(centroids[:, 0], centroids[:, 1], s=200, c='red', marker = 'X', label = 'Centroids')  # Plotting centroids\n",
        "plt.xlabel('x')\n",
        "plt.ylabel('y')\n",
        "plt.title('K-means Clustering')\n",
        "plt.show()"
      ]
    },
    {
      "cell_type": "code",
      "execution_count": null,
      "metadata": {
        "colab": {
          "background_save": true
        },
        "id": "yH8jdXz30cKe"
      },
      "outputs": [],
      "source": [
        "x_list = []\n",
        "y_list = []\n",
        "g_list = []\n",
        "c_list = []\n",
        "\n",
        "\n",
        "for q in range(0, 5453):\n",
        "    x_list.append(data_pd.loc[q].at[\"x\"])\n",
        "    y_list.append(data_pd.loc[q].at[\"y\"])\n",
        "    c_list.append(data_pd.loc[q].at[\"hex_colour\"])\n",
        "    g_list.append(data_pd.loc[q].at[\"genre\"])\n",
        "\n",
        "\n",
        "print(x_list)\n",
        "print(y_list)\n",
        "print(g_list)\n",
        "plt.figure(figsize=(15, 15))\n",
        "plt.scatter(x_list ,y_list, c = c_list)\n",
        "plt.xlabel('X Axis')\n",
        "plt.ylabel('Y Axis')\n",
        "plt.title('EveryNoise Scatter Plot')\n",
        "plt.show()"
      ]
    },
    {
      "cell_type": "code",
      "execution_count": null,
      "metadata": {
        "colab": {
          "background_save": true
        },
        "id": "_PAsnnMzELWO"
      },
      "outputs": [],
      "source": [
        "coordinates = list(zip(x_list, y_list))\n",
        "#print(coordinates)\n",
        "\n",
        "search_genre = input(\"Enter a Genre: \").lower()\n",
        "#print(search_genre)\n",
        "\n",
        "cluster_base = data_pd.loc[data_pd[\"genre\"].str.lower() == search_genre]\n",
        "print(cluster_base)\n",
        "\n",
        "print(cluster_base['cluster'].values[0])\n",
        "\n",
        "if not cluster_base.empty:\n",
        "    search_x = cluster_base.iloc[0].at[\"x\"]\n",
        "    search_y = cluster_base.iloc[0].at[\"y\"]\n",
        "    #print(search_x, \",\", search_y)\n",
        "\n",
        "    search_tuple = (search_x, search_y)\n",
        "    #print(search_tuple)\n",
        "\n",
        "    try:\n",
        "        index = coordinates.index(search_tuple)\n",
        "        print(\"Index of search_tuple:\", index)\n",
        "\n",
        "        scaling_factor = 100  # Adjust as needed\n",
        "        scaled_centroids = kmeans.cluster_centers_ * scaling_factor\n",
        "\n",
        "        # Visualize the clusters and centroids using seaborn\n",
        "        plt.figure(figsize=(15, 15))\n",
        "        sns.scatterplot(x='x', y='y', hue='cluster', data=data_pd, palette='tab10', alpha=0.5)\n",
        "        plt.scatter(search_x, search_y, s=500, c='red', marker='X')\n",
        "        plt.xlabel('x')\n",
        "        plt.ylabel('y')\n",
        "        plt.title('K-means Clustering')\n",
        "        plt.show()\n",
        "\n",
        "\n",
        "    except ValueError:\n",
        "        print(\"Index not found in coordinates list.\")\n",
        "else:\n",
        "    print(\"Genre not found in the dataset.\")"
      ]
    },
    {
      "cell_type": "code",
      "execution_count": null,
      "metadata": {
        "colab": {
          "background_save": true
        },
        "id": "6nG0z_xFQh01"
      },
      "outputs": [],
      "source": [
        "# To find playlist of songs for one genre, need to find a specific webpage, then find a specific playlist link on that webpage. This is the code block for that.\n",
        "# With the playlist link of songs for one genre, we can have a recommendation algorithm that finds a random song\n",
        "\n",
        "genre = 'rock'\n",
        "# genre = 'midwestemo'\n",
        "# URL of the webpage that has link to genre-specific playlist\n",
        "url = 'https://everynoise.com/engenremap-' + genre + '.html'\n",
        "\n",
        "response = requests.get(url) # Fetch the HTML content from the URL\n",
        "\n",
        "\n",
        "if response.status_code == 200: # Check if the request was successful (status code 200)\n",
        "    # Extract the HTML content\n",
        "    html_content = response.text\n",
        "\n",
        "    # Define the regex pattern to find the specific line\n",
        "    regex_pattern = r'https://open.spotify.com/playlist/([a-zA-Z0-9]+)'\n",
        "\n",
        "    # Use regex to find the line containing the link\n",
        "    match = re.search(regex_pattern, html_content)\n",
        "\n",
        "    if match:\n",
        "        spotify_link = 'https://open.spotify.com/playlist/'\n",
        "        spotify_link += match.group(1)  # Extract the link\n",
        "        print(f\"Found Spotify playlist link: {spotify_link}\")\n",
        "    else:\n",
        "        print(\"Link to spotify playlist invalid\")\n",
        "else:\n",
        "    print('Failed to fetch HTML content from URL')"
      ]
    },
    {
      "cell_type": "code",
      "execution_count": null,
      "metadata": {
        "colab": {
          "background_save": true
        },
        "id": "BscuZzyHKT1w"
      },
      "outputs": [],
      "source": [
        "CLIENT_ID = '510fecc410c74c528a269892efa46631'\n",
        "CLIENT_SECRET = 'b6b11204e6e94160842d4b05fce1b158'"
      ]
    },
    {
      "cell_type": "code",
      "execution_count": null,
      "metadata": {
        "colab": {
          "background_save": true
        },
        "id": "z8h_92SapKKq"
      },
      "outputs": [],
      "source": [
        "offset = 0\n",
        "track_ids = []\n",
        "\n",
        "sp_client = spotipy.Spotify(client_credentials_manager=SpotifyClientCredentials(client_id=CLIENT_ID, client_secret=CLIENT_SECRET))\n",
        "\n",
        "response = sp_client.playlist_items(spotify_link,\n",
        "                                offset=offset,\n",
        "                                fields='items.track.id,total',\n",
        "                                additional_types=['track'])\n",
        "\n",
        "for item in response['items']:\n",
        "    track_id = item['track']['id']\n",
        "    track_ids.append(track_id)\n",
        "\n",
        "rand_selection = random.randint(0, len(track_id))\n",
        "\n",
        "track_info = sp_client.track(track_ids[rand_selection])\n",
        "track_name = track_info['name']\n",
        "\n",
        "track_name += \" by \"\n",
        "artists = [artist['name'] for artist in track_info['artists']]\n",
        "for artist in artists:\n",
        "    track_name += artist + \" \"\n",
        "\n",
        "print(track_name)\n",
        "\n",
        "# offset = offset + len(response['items'])\n",
        "# print(offset, \"/\", response['total'])"
      ]
    }
  ],
  "metadata": {
    "colab": {
      "provenance": []
    },
    "kernelspec": {
      "display_name": "Python 3",
      "name": "python3"
    },
    "language_info": {
      "name": "python"
    }
  },
  "nbformat": 4,
  "nbformat_minor": 0
}